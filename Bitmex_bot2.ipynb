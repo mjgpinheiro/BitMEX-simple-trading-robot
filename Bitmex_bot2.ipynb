{
  "nbformat": 4,
  "nbformat_minor": 0,
  "metadata": {
    "colab": {
      "provenance": [],
      "authorship_tag": "ABX9TyMGie/OjlySYFwZJPK4YJe9",
      "include_colab_link": true
    },
    "kernelspec": {
      "name": "python3",
      "display_name": "Python 3"
    },
    "language_info": {
      "name": "python"
    }
  },
  "cells": [
    {
      "cell_type": "markdown",
      "metadata": {
        "id": "view-in-github",
        "colab_type": "text"
      },
      "source": [
        "<a href=\"https://colab.research.google.com/github/mjgpinheiro/BitMEX-simple-trading-robot/blob/master/Bitmex_bot2.ipynb\" target=\"_parent\"><img src=\"https://colab.research.google.com/assets/colab-badge.svg\" alt=\"Open In Colab\"/></a>"
      ]
    },
    {
      "cell_type": "code",
      "execution_count": null,
      "metadata": {
        "id": "V7w2hMbzHgfQ"
      },
      "outputs": [],
      "source": [
        "# Import libraries\n",
        "!wget http://prdownloads.sourceforge.net/ta-lib/ta-lib-0.4.0-src.tar.gz\n",
        "!tar -xzvf ta-lib-0.4.0-src.tar.gz\n",
        "%cd ta-lib\n",
        "!./configure --prefix=/usr\n",
        "!make\n",
        "!make install\n",
        "!pip install Ta-Lib\n",
        "import talib\n",
        "!pip install bitmex\n",
        "import bitmex\n",
        "import numpy as np\n",
        "import time\n",
        "\n",
        "# Set up BitMEX client\n",
        "client = bitmex.bitmex(api_key='<your_api_key>', api_secret='<your_api_secret>')\n",
        "\n",
        "# Set parameters\n",
        "symbol = 'XBTUSD' # Trading symbol\n",
        "order_quantity = 100 # Order quantity\n",
        "stop_loss = 500 # Stop loss in USD\n",
        "take_profit = 1000 # Take profit in USD\n",
        "interval = 60 # Time interval in seconds for checking the price\n",
        "\n",
        "# Set indicators\n",
        "window = 14 # Window for calculating RSI and stochastic\n",
        "k = 3 # Smoothing factor for stochastic\n",
        "\n",
        "# Loop to check the price\n",
        "while True:\n",
        "    # Get historical data\n",
        "    historical_data = client.Trade.Trade_getBucketed(symbol=symbol, binSize='1h', count=window, reverse=True).result()[0]\n",
        "    close_price = np.array([data['close'] for data in historical_data])\n",
        "    high_price = np.array([data['high'] for data in historical_data])\n",
        "    low_price = np.array([data['low'] for data in historical_data])\n",
        "    \n",
        "    # Calculate indicators\n",
        "    rsi = talib.RSI(close_price, timeperiod=window)[-1]\n",
        "    slowk, slowd = talib.STOCH(high_price, low_price, close_price, fastk_period=window, slowk_period=k, slowk_matype=0, slowd_period=3, slowd_matype=0)\n",
        "    stochastic = slowk[-1]\n",
        "    \n",
        "    # Check for filters\n",
        "    if rsi < 30 and stochastic < 20:\n",
        "        # Place buy order\n",
        "        client.Order.Order_new(symbol=symbol, orderQty=order_quantity, ordType='Market').result()\n",
        "    elif rsi > 70 and stochastic > 80:\n",
        "        # Place sell order\n",
        "        client.Order.Order_new(symbol=symbol, orderQty=-order_quantity, ordType='Market').result()\n",
        "    else:\n",
        "        # Check for risk management\n",
        "        current_position = client.Position.Position_get(filter={'symbol': symbol}).result()[0][0]\n",
        "        if current_position['currentQty'] > 0:\n",
        "            # Check for stop loss\n",
        "            if current_position['avgEntryPrice'] - current_price <= -stop_loss:\n",
        "                client.Order.Order_new(symbol=symbol, orderQty=-current_position['currentQty'], ordType='Market').result()\n",
        "            # Check for take profit\n",
        "            elif current_price - current_position['avgEntryPrice'] >= take_profit:\n",
        "                client.Order.Order_new(symbol=symbol, orderQty=-current_position['currentQty'], ordType='Market').result()\n",
        "        elif current_position['currentQty'] < 0:\n",
        "            # Check for stop loss\n",
        "            if current_price - current_position['avgEntryPrice'] >= stop_loss:\n",
        "                client.Order.Order_new(symbol=symbol, orderQty=-current_position['currentQty'], ordType='Market').result()\n",
        "            # Check for take profit\n",
        "            elif current_position['avgEntryPrice'] - current_price >= take_profit:\n",
        "                client.Order.Order_new(symbol=symbol, orderQty=-current_position['currentQty'], ordType='Market').result()\n",
        "    \n",
        "    # Wait for the next interval\n",
        "    time.sleep(interval)\n"
      ]
    }
  ]
}